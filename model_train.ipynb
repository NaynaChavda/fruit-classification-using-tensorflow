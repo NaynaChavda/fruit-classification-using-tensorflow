{
 "cells": [
  {
   "cell_type": "code",
   "execution_count": 1,
   "metadata": {},
   "outputs": [],
   "source": [
    "import cv2\n",
    "import numpy as np\n",
    "import os \n",
    "import json \n",
    "import pandas as pd\n",
    "import matplotlib.pyplot as plt"
   ]
  },
  {
   "cell_type": "code",
   "execution_count": 2,
   "metadata": {},
   "outputs": [],
   "source": [
    "data = \"E:/datasets/fruits_360/Training\"\n",
    "data1 = \"E:/datasets/fruits_360/Test\""
   ]
  },
  {
   "cell_type": "code",
   "execution_count": 3,
   "metadata": {},
   "outputs": [],
   "source": [
    "class_list = os.listdir(data)\n",
    "class_count= len(data)\n",
    "\n",
    "class_list1 = os.listdir(data1)\n",
    "class_count1 = len(data1)"
   ]
  },
  {
   "cell_type": "code",
   "execution_count": 4,
   "metadata": {},
   "outputs": [
    {
     "data": {
      "text/plain": [
       "['Apple Crimson Snow 1',\n",
       " 'Apple Red 1',\n",
       " 'Apple Red Delicious 1',\n",
       " 'Banana 1',\n",
       " 'Banana Lady Finger 1',\n",
       " 'Grape White 2',\n",
       " 'Grape White 3',\n",
       " 'Lemon 1',\n",
       " 'Lemon Meyer 1',\n",
       " 'Onion Red 1',\n",
       " 'Onion Red Peeled 1',\n",
       " 'Pear 1',\n",
       " 'Pear Forelle 1',\n",
       " 'Pear Monster 1',\n",
       " 'Pineapple 1',\n",
       " 'Pineapple Mini 1',\n",
       " 'Potato Sweet 1',\n",
       " 'Potato White 1',\n",
       " 'Tomato 1',\n",
       " 'Tomato 4']"
      ]
     },
     "execution_count": 4,
     "metadata": {},
     "output_type": "execute_result"
    }
   ],
   "source": [
    "class_list"
   ]
  },
  {
   "cell_type": "code",
   "execution_count": 5,
   "metadata": {},
   "outputs": [
    {
     "data": {
      "text/plain": [
       "['Apple Crimson Snow 1',\n",
       " 'Apple Red 1',\n",
       " 'Apple Red Delicious 1',\n",
       " 'Banana 1',\n",
       " 'Banana Lady Finger 1',\n",
       " 'Grape White 2',\n",
       " 'Grape White 3',\n",
       " 'Lemon 1',\n",
       " 'Lemon Meyer 1',\n",
       " 'Onion Red 1',\n",
       " 'Onion Red Peeled 1',\n",
       " 'Pear 1',\n",
       " 'Pear Forelle 1',\n",
       " 'Pear Monster 1',\n",
       " 'Pineapple 1',\n",
       " 'Pineapple Mini 1',\n",
       " 'Potato Sweet 1',\n",
       " 'Potato White 1',\n",
       " 'Tomato 1',\n",
       " 'Tomato 4']"
      ]
     },
     "execution_count": 5,
     "metadata": {},
     "output_type": "execute_result"
    }
   ],
   "source": [
    "class_list1"
   ]
  },
  {
   "cell_type": "code",
   "execution_count": 6,
   "metadata": {},
   "outputs": [
    {
     "name": "stdout",
     "output_type": "stream",
     "text": [
      "Apple Crimson Snow 1 -> 0\n",
      "Apple Red 1 -> 1\n",
      "Apple Red Delicious 1 -> 2\n",
      "Banana 1 -> 3\n",
      "Banana Lady Finger 1 -> 4\n",
      "Grape White 2 -> 5\n",
      "Grape White 3 -> 6\n",
      "Lemon 1 -> 7\n",
      "Lemon Meyer 1 -> 8\n",
      "Onion Red 1 -> 9\n",
      "Onion Red Peeled 1 -> 10\n",
      "Pear 1 -> 11\n",
      "Pear Forelle 1 -> 12\n",
      "Pear Monster 1 -> 13\n",
      "Pineapple 1 -> 14\n",
      "Pineapple Mini 1 -> 15\n",
      "Potato Sweet 1 -> 16\n",
      "Potato White 1 -> 17\n",
      "Tomato 1 -> 18\n",
      "Tomato 4 -> 19\n"
     ]
    }
   ],
   "source": [
    "import os\n",
    "from sklearn.preprocessing import LabelEncoder\n",
    "\n",
    "# Assuming `data` is the directory containing your class subfolders\n",
    "class_list = os.listdir(data)\n",
    "\n",
    "# Create a LabelEncoder instance\n",
    "label_encoder = LabelEncoder()\n",
    "\n",
    "# Fit and transform the class labels into numeric values\n",
    "numeric_labels = label_encoder.fit_transform(class_list)\n",
    "\n",
    "# Display the original and encoded labels\n",
    "for original, numeric in zip(class_list, numeric_labels):\n",
    "    print(f'{original} -> {numeric}')"
   ]
  },
  {
   "cell_type": "code",
   "execution_count": 7,
   "metadata": {},
   "outputs": [
    {
     "name": "stdout",
     "output_type": "stream",
     "text": [
      "Apple Crimson Snow 1 -> 0\n",
      "Apple Red 1 -> 1\n",
      "Apple Red Delicious 1 -> 2\n",
      "Banana 1 -> 3\n",
      "Banana Lady Finger 1 -> 4\n",
      "Grape White 2 -> 5\n",
      "Grape White 3 -> 6\n",
      "Lemon 1 -> 7\n",
      "Lemon Meyer 1 -> 8\n",
      "Onion Red 1 -> 9\n",
      "Onion Red Peeled 1 -> 10\n",
      "Pear 1 -> 11\n",
      "Pear Forelle 1 -> 12\n",
      "Pear Monster 1 -> 13\n",
      "Pineapple 1 -> 14\n",
      "Pineapple Mini 1 -> 15\n",
      "Potato Sweet 1 -> 16\n",
      "Potato White 1 -> 17\n",
      "Tomato 1 -> 18\n",
      "Tomato 4 -> 19\n"
     ]
    }
   ],
   "source": [
    "import os\n",
    "from sklearn.preprocessing import LabelEncoder\n",
    "\n",
    "# Assuming `data` is the directory containing your class subfolders\n",
    "class_list1 = os.listdir(data1)\n",
    "\n",
    "# Create a LabelEncoder instance\n",
    "label_encoder = LabelEncoder()\n",
    "\n",
    "# Fit and transform the class labels into numeric values\n",
    "numeric_labels1 = label_encoder.fit_transform(class_list1)\n",
    "\n",
    "# Display the original and encoded labels\n",
    "for original, numeric in zip(class_list1, numeric_labels1):\n",
    "    print(f'{original} -> {numeric}')\n"
   ]
  },
  {
   "cell_type": "code",
   "execution_count": 8,
   "metadata": {},
   "outputs": [],
   "source": [
    "images = []  # list of images\n",
    "class_no = [] # list of classes"
   ]
  },
  {
   "cell_type": "code",
   "execution_count": 9,
   "metadata": {},
   "outputs": [
    {
     "name": "stdout",
     "output_type": "stream",
     "text": [
      "Apple Crimson Snow 1 completed....\n",
      "Apple Red 1 completed....\n",
      "Apple Red Delicious 1 completed....\n",
      "Banana 1 completed....\n",
      "Banana Lady Finger 1 completed....\n",
      "Grape White 2 completed....\n",
      "Grape White 3 completed....\n",
      "Lemon 1 completed....\n",
      "Lemon Meyer 1 completed....\n",
      "Onion Red 1 completed....\n",
      "Onion Red Peeled 1 completed....\n",
      "Pear 1 completed....\n",
      "Pear Forelle 1 completed....\n",
      "Pear Monster 1 completed....\n",
      "Pineapple 1 completed....\n",
      "Pineapple Mini 1 completed....\n",
      "Potato Sweet 1 completed....\n",
      "Potato White 1 completed....\n",
      "Tomato 1 completed....\n",
      "Tomato 4 completed....\n"
     ]
    }
   ],
   "source": [
    "for class_index, class_name in enumerate(class_list):\n",
    "    myPiclist = os.listdir(os.path.join(data, class_name))  # Use class_name instead of str(x)\n",
    "    \n",
    "    for y in myPiclist:\n",
    "        img = cv2.imread(os.path.join(data, class_name, y))\n",
    "        img = cv2.resize(img, (32, 32))\n",
    "        images.append(img)\n",
    "        class_no.append(numeric_labels[class_index])  # Use numeric label instead of x\n",
    "\n",
    "    print(f\"{class_name} completed....\")"
   ]
  },
  {
   "cell_type": "code",
   "execution_count": 10,
   "metadata": {},
   "outputs": [],
   "source": [
    "images1 = []  # list of images\n",
    "class_no1 = [] # list of classes"
   ]
  },
  {
   "cell_type": "code",
   "execution_count": 11,
   "metadata": {},
   "outputs": [
    {
     "name": "stdout",
     "output_type": "stream",
     "text": [
      "Apple Crimson Snow 1 completed....\n",
      "Apple Red 1 completed....\n",
      "Apple Red Delicious 1 completed....\n",
      "Banana 1 completed....\n",
      "Banana Lady Finger 1 completed....\n",
      "Grape White 2 completed....\n",
      "Grape White 3 completed....\n",
      "Lemon 1 completed....\n",
      "Lemon Meyer 1 completed....\n",
      "Onion Red 1 completed....\n",
      "Onion Red Peeled 1 completed....\n",
      "Pear 1 completed....\n",
      "Pear Forelle 1 completed....\n",
      "Pear Monster 1 completed....\n",
      "Pineapple 1 completed....\n",
      "Pineapple Mini 1 completed....\n",
      "Potato Sweet 1 completed....\n",
      "Potato White 1 completed....\n",
      "Tomato 1 completed....\n",
      "Tomato 4 completed....\n"
     ]
    }
   ],
   "source": [
    "for class_index1, class_name1 in enumerate(class_list1):\n",
    "    myPiclist1 = os.listdir(os.path.join(data1, class_name1))  # Use class_name instead of str(x)\n",
    "    \n",
    "    for z in myPiclist1:\n",
    "        img = cv2.imread(os.path.join(data1, class_name1, z))\n",
    "        img = cv2.resize(img, (32, 32))\n",
    "        images1.append(img)\n",
    "        class_no1.append(numeric_labels1[class_index1])  # Use numeric label instead of x\n",
    "\n",
    "    print(f\"{class_name1} completed....\")"
   ]
  },
  {
   "cell_type": "code",
   "execution_count": 12,
   "metadata": {},
   "outputs": [],
   "source": [
    "images = np.array(images)\n",
    "class_no = np.array(class_no)\n",
    "\n",
    "images1 = np.array(images1)\n",
    "class_no1 = np.array(class_no1)"
   ]
  },
  {
   "cell_type": "code",
   "execution_count": 13,
   "metadata": {},
   "outputs": [],
   "source": [
    "from sklearn.model_selection import train_test_split"
   ]
  },
  {
   "cell_type": "code",
   "execution_count": 14,
   "metadata": {},
   "outputs": [
    {
     "name": "stdout",
     "output_type": "stream",
     "text": [
      "[ 0  0  0 ... 19 19 19]\n"
     ]
    }
   ],
   "source": [
    "print(class_no)"
   ]
  },
  {
   "cell_type": "code",
   "execution_count": 15,
   "metadata": {},
   "outputs": [
    {
     "name": "stdout",
     "output_type": "stream",
     "text": [
      "Data preparation completed.\n"
     ]
    }
   ],
   "source": [
    "X_train = images  # Use the already processed training images\n",
    "y_train = class_no  # Use the corresponding labels\n",
    "\n",
    "# If you have separate processed images for testing, assign those as well\n",
    "X_test = images1  # Assuming you have processed images for testing\n",
    "y_test = class_no1  # Assuming you have class labels for testing\n",
    "\n",
    "# Further split the training data into training and validation sets\n",
    "X_train, X_validation, y_train, y_validation = train_test_split(X_train, y_train, test_size=0.2)\n",
    "\n",
    "print(\"Data preparation completed.\")"
   ]
  },
  {
   "cell_type": "code",
   "execution_count": 16,
   "metadata": {},
   "outputs": [
    {
     "name": "stdout",
     "output_type": "stream",
     "text": [
      "(8007, 32, 32, 3)\n",
      "(3360, 32, 32, 3)\n",
      "(2002, 32, 32, 3)\n",
      "(8007,)\n",
      "(3360,)\n",
      "(2002,)\n"
     ]
    }
   ],
   "source": [
    "print(X_train.shape) \n",
    "print(X_test.shape)\n",
    "print(X_validation.shape)\n",
    "\n",
    "print(y_train.shape) \n",
    "print(y_test.shape)\n",
    "print(y_validation.shape)"
   ]
  },
  {
   "cell_type": "code",
   "execution_count": 17,
   "metadata": {},
   "outputs": [],
   "source": [
    "X_train = np.array(X_train)\n",
    "X_test = np.array(X_test)\n",
    "X_validation = np.array(X_validation)\n",
    "y_train = np.array(y_train)\n",
    "y_test = np.array(y_test)\n",
    "y_validation = np.array(y_validation)"
   ]
  },
  {
   "cell_type": "code",
   "execution_count": 18,
   "metadata": {},
   "outputs": [],
   "source": [
    "def prepos(img):\n",
    "    img = cv2.cvtColor(img,cv2.COLOR_BGR2GRAY)\n",
    "    img = cv2.equalizeHist(img)\n",
    "    img = img/255\n",
    "    \n",
    "    return img"
   ]
  },
  {
   "cell_type": "code",
   "execution_count": 19,
   "metadata": {},
   "outputs": [],
   "source": [
    "X_train= np.array(list(map(prepos,X_train)))\n",
    "X_test= np.array(list(map(prepos,X_test)))\n",
    "X_validation= np.array(list(map(prepos,X_validation)))"
   ]
  },
  {
   "cell_type": "code",
   "execution_count": 20,
   "metadata": {},
   "outputs": [],
   "source": [
    "X_train = X_train.reshape(X_train.shape[0],X_train.shape[1],X_train.shape[2],1)\n",
    "X_test = X_test.reshape(X_test.shape[0],X_test.shape[1],X_test.shape[2],1)\n",
    "X_validation = X_validation.reshape(X_validation.shape[0],X_validation.shape[1],X_validation.shape[2],1)"
   ]
  },
  {
   "cell_type": "code",
   "execution_count": 21,
   "metadata": {},
   "outputs": [],
   "source": [
    "from tensorflow.keras.preprocessing.image import ImageDataGenerator\n",
    "from tensorflow.keras.utils import to_categorical"
   ]
  },
  {
   "cell_type": "code",
   "execution_count": 22,
   "metadata": {},
   "outputs": [],
   "source": [
    "dataGen = ImageDataGenerator(width_shift_range=0.1,\n",
    "                             height_shift_range=0.1,\n",
    "                             zoom_range=0.2,\n",
    "                             shear_range=0.1,\n",
    "                             rotation_range=10)\n",
    "dataGen.fit(X_train)"
   ]
  },
  {
   "cell_type": "code",
   "execution_count": 23,
   "metadata": {},
   "outputs": [
    {
     "name": "stdout",
     "output_type": "stream",
     "text": [
      "Max y_train label: 19\n",
      "Max y_test label: 19\n",
      "Max y_validation label: 19\n"
     ]
    }
   ],
   "source": [
    "print(\"Max y_train label:\", max(y_train))\n",
    "print(\"Max y_test label:\", max(y_test))\n",
    "print(\"Max y_validation label:\", max(y_validation))\n"
   ]
  },
  {
   "cell_type": "code",
   "execution_count": 24,
   "metadata": {},
   "outputs": [
    {
     "name": "stdout",
     "output_type": "stream",
     "text": [
      "Classes in numeric_labels: ['Apple Crimson Snow 1' 'Apple Red 1' 'Apple Red Delicious 1' 'Banana 1'\n",
      " 'Banana Lady Finger 1' 'Grape White 2' 'Grape White 3' 'Lemon 1'\n",
      " 'Lemon Meyer 1' 'Onion Red 1' 'Onion Red Peeled 1' 'Pear 1'\n",
      " 'Pear Forelle 1' 'Pear Monster 1' 'Pineapple 1' 'Pineapple Mini 1'\n",
      " 'Potato Sweet 1' 'Potato White 1' 'Tomato 1' 'Tomato 4']\n"
     ]
    }
   ],
   "source": [
    "print(\"Classes in numeric_labels:\", label_encoder.classes_)\n"
   ]
  },
  {
   "cell_type": "code",
   "execution_count": 25,
   "metadata": {},
   "outputs": [
    {
     "name": "stdout",
     "output_type": "stream",
     "text": [
      "y_train shape: (8007,)\n"
     ]
    }
   ],
   "source": [
    "import numpy as np\n",
    "\n",
    "# Check the shape of your y_train\n",
    "print(\"y_train shape:\", y_train.shape)\n",
    "\n",
    "# Reshape if necessary\n",
    "if y_train.ndim == 3:\n",
    "    # Reshape to (num_samples, num_classes)\n",
    "    # Assuming the second dimension represents the classes\n",
    "    y_train = np.reshape(y_train, (-1, class_count))  # Replace class_count with your actual number of classes\n"
   ]
  },
  {
   "cell_type": "code",
   "execution_count": 26,
   "metadata": {},
   "outputs": [
    {
     "name": "stdout",
     "output_type": "stream",
     "text": [
      "Unique labels in y_train: [ 0  1  2  3  4  5  6  7  8  9 10 11 12 13 14 15 16 17 18 19]\n"
     ]
    }
   ],
   "source": [
    "# Check unique labels\n",
    "unique_labels = np.unique(y_train)\n",
    "print(\"Unique labels in y_train:\", unique_labels)\n"
   ]
  },
  {
   "cell_type": "code",
   "execution_count": 27,
   "metadata": {},
   "outputs": [
    {
     "name": "stdout",
     "output_type": "stream",
     "text": [
      "y_train_categorical shape: (8007, 20)\n",
      "y_test shape: (3360, 20)\n",
      "y_validation shape: (2002, 20)\n"
     ]
    }
   ],
   "source": [
    "class_count = len(np.unique(y_train))\n",
    "\n",
    "# Convert labels to categorical\n",
    "y_train_categorical = to_categorical(y_train, num_classes=class_count)\n",
    "print(\"y_train_categorical shape:\", y_train_categorical.shape)\n",
    "\n",
    "y_test = to_categorical(y_test, num_classes=class_count)\n",
    "y_validation = to_categorical(y_validation, num_classes=class_count)\n",
    "\n",
    "print(\"y_test shape:\", y_test.shape)\n",
    "print(\"y_validation shape:\", y_validation.shape)"
   ]
  },
  {
   "cell_type": "code",
   "execution_count": 28,
   "metadata": {},
   "outputs": [],
   "source": [
    "from tensorflow.keras.models import Sequential\n",
    "from tensorflow.keras.layers import Activation, Dropout, Flatten, Dense, Conv2D, MaxPooling2D\n",
    "from keras.optimizers import Adam"
   ]
  },
  {
   "cell_type": "code",
   "execution_count": 29,
   "metadata": {},
   "outputs": [],
   "source": [
    "imageDimensions= (32,32,3)"
   ]
  },
  {
   "cell_type": "code",
   "execution_count": 30,
   "metadata": {},
   "outputs": [
    {
     "name": "stdout",
     "output_type": "stream",
     "text": [
      "20\n"
     ]
    }
   ],
   "source": [
    "print(class_count)"
   ]
  },
  {
   "cell_type": "code",
   "execution_count": 31,
   "metadata": {},
   "outputs": [
    {
     "name": "stdout",
     "output_type": "stream",
     "text": [
      "x_train shape: (8007, 32, 32, 1)\n"
     ]
    }
   ],
   "source": [
    "print(\"x_train shape:\", X_train.shape)"
   ]
  },
  {
   "cell_type": "code",
   "execution_count": 32,
   "metadata": {},
   "outputs": [
    {
     "name": "stdout",
     "output_type": "stream",
     "text": [
      "x_train shape: (8007, 32, 32, 1, 3)\n"
     ]
    }
   ],
   "source": [
    "X_train = np.stack((X_train,) * 3, axis=-1)  # Shape becomes (num_samples, 32, 32, 3)\n",
    "X_validation = np.stack((X_validation,) * 3, axis=-1)\n",
    "print(\"x_train shape:\", X_train.shape)"
   ]
  },
  {
   "cell_type": "code",
   "execution_count": 33,
   "metadata": {},
   "outputs": [],
   "source": [
    "X_train = X_train.reshape(8007, 32, 32, 3)\n",
    "X_validation = X_validation.reshape(X_validation.shape[0], 32, 32, 3)"
   ]
  },
  {
   "cell_type": "code",
   "execution_count": 34,
   "metadata": {},
   "outputs": [
    {
     "name": "stdout",
     "output_type": "stream",
     "text": [
      "x_train shape: (8007, 32, 32, 3)\n"
     ]
    }
   ],
   "source": [
    "print(\"x_train shape:\", X_train.shape)"
   ]
  },
  {
   "cell_type": "code",
   "execution_count": 35,
   "metadata": {},
   "outputs": [
    {
     "name": "stdout",
     "output_type": "stream",
     "text": [
      "y_train shape: (8007,)\n"
     ]
    }
   ],
   "source": [
    "print(\"y_train shape:\", y_train.shape)\n",
    "\n",
    "# Reshape if necessary\n",
    "if y_train.ndim == 3:\n",
    "    # Reshape to (num_samples, num_classes)\n",
    "    # Assuming the second dimension represents the classes\n",
    "    y_train = np.reshape(y_train, (-1, class_count)) "
   ]
  },
  {
   "cell_type": "code",
   "execution_count": 36,
   "metadata": {},
   "outputs": [],
   "source": [
    "from keras.models import Sequential\n",
    "from keras.layers import Conv2D, MaxPooling2D, Flatten, Dense, Dropout, Input\n",
    "from keras.optimizers import Adam\n",
    "\n",
    "def myModel():\n",
    "    noOfFilters = 128\n",
    "    sizeOfFilter1 = (5, 5)\n",
    "    sizeOfFilter2 = (3, 3)\n",
    "    sizeOfPool = (2, 2)\n",
    "    noOfNodes = 512\n",
    "    \n",
    "    # Define the input shape\n",
    "    input_shape = (32, 32, 3)  # Change to (32, 32, 1) if using grayscale images\n",
    "    \n",
    "    model = Sequential()\n",
    "    model.add(Input(shape=input_shape))  # Corrected from 'input' to 'Input'\n",
    "    model.add(Conv2D(noOfFilters, sizeOfFilter1, activation='relu'))\n",
    "    model.add(Conv2D(noOfFilters, sizeOfFilter1, activation='relu'))\n",
    "    model.add(MaxPooling2D(pool_size=sizeOfPool))\n",
    "    model.add(Conv2D(noOfFilters, sizeOfFilter2, activation='relu'))\n",
    "    model.add(Conv2D(noOfFilters // 2, sizeOfFilter2, activation='relu'))\n",
    "    model.add(Conv2D(noOfFilters // 2, sizeOfFilter2, activation='relu'))\n",
    "    model.add(MaxPooling2D(pool_size=sizeOfPool))\n",
    "    model.add(Dropout(0.2))  # Keep this for regularization\n",
    "    \n",
    "    model.add(Flatten())\n",
    "    model.add(Dense(noOfNodes, activation='relu'))\n",
    "    model.add(Dropout(0.2))  # Keep this for regularization\n",
    "    model.add(Dense(class_count, activation='softmax'))  # Ensure this matches your number of classes\n",
    "\n",
    "    model.compile(Adam(learning_rate=0.001), loss='categorical_crossentropy', metrics=['accuracy'])\n",
    "    \n",
    "    return model\n"
   ]
  },
  {
   "cell_type": "code",
   "execution_count": 37,
   "metadata": {},
   "outputs": [
    {
     "data": {
      "text/html": [
       "<pre style=\"white-space:pre;overflow-x:auto;line-height:normal;font-family:Menlo,'DejaVu Sans Mono',consolas,'Courier New',monospace\"><span style=\"font-weight: bold\">Model: \"sequential\"</span>\n",
       "</pre>\n"
      ],
      "text/plain": [
       "\u001b[1mModel: \"sequential\"\u001b[0m\n"
      ]
     },
     "metadata": {},
     "output_type": "display_data"
    },
    {
     "data": {
      "text/html": [
       "<pre style=\"white-space:pre;overflow-x:auto;line-height:normal;font-family:Menlo,'DejaVu Sans Mono',consolas,'Courier New',monospace\">┏━━━━━━━━━━━━━━━━━━━━━━━━━━━━━━━━━┳━━━━━━━━━━━━━━━━━━━━━━━━┳━━━━━━━━━━━━━━━┓\n",
       "┃<span style=\"font-weight: bold\"> Layer (type)                    </span>┃<span style=\"font-weight: bold\"> Output Shape           </span>┃<span style=\"font-weight: bold\">       Param # </span>┃\n",
       "┡━━━━━━━━━━━━━━━━━━━━━━━━━━━━━━━━━╇━━━━━━━━━━━━━━━━━━━━━━━━╇━━━━━━━━━━━━━━━┩\n",
       "│ conv2d (<span style=\"color: #0087ff; text-decoration-color: #0087ff\">Conv2D</span>)                 │ (<span style=\"color: #00d7ff; text-decoration-color: #00d7ff\">None</span>, <span style=\"color: #00af00; text-decoration-color: #00af00\">28</span>, <span style=\"color: #00af00; text-decoration-color: #00af00\">28</span>, <span style=\"color: #00af00; text-decoration-color: #00af00\">128</span>)    │         <span style=\"color: #00af00; text-decoration-color: #00af00\">9,728</span> │\n",
       "├─────────────────────────────────┼────────────────────────┼───────────────┤\n",
       "│ conv2d_1 (<span style=\"color: #0087ff; text-decoration-color: #0087ff\">Conv2D</span>)               │ (<span style=\"color: #00d7ff; text-decoration-color: #00d7ff\">None</span>, <span style=\"color: #00af00; text-decoration-color: #00af00\">24</span>, <span style=\"color: #00af00; text-decoration-color: #00af00\">24</span>, <span style=\"color: #00af00; text-decoration-color: #00af00\">128</span>)    │       <span style=\"color: #00af00; text-decoration-color: #00af00\">409,728</span> │\n",
       "├─────────────────────────────────┼────────────────────────┼───────────────┤\n",
       "│ max_pooling2d (<span style=\"color: #0087ff; text-decoration-color: #0087ff\">MaxPooling2D</span>)    │ (<span style=\"color: #00d7ff; text-decoration-color: #00d7ff\">None</span>, <span style=\"color: #00af00; text-decoration-color: #00af00\">12</span>, <span style=\"color: #00af00; text-decoration-color: #00af00\">12</span>, <span style=\"color: #00af00; text-decoration-color: #00af00\">128</span>)    │             <span style=\"color: #00af00; text-decoration-color: #00af00\">0</span> │\n",
       "├─────────────────────────────────┼────────────────────────┼───────────────┤\n",
       "│ conv2d_2 (<span style=\"color: #0087ff; text-decoration-color: #0087ff\">Conv2D</span>)               │ (<span style=\"color: #00d7ff; text-decoration-color: #00d7ff\">None</span>, <span style=\"color: #00af00; text-decoration-color: #00af00\">10</span>, <span style=\"color: #00af00; text-decoration-color: #00af00\">10</span>, <span style=\"color: #00af00; text-decoration-color: #00af00\">128</span>)    │       <span style=\"color: #00af00; text-decoration-color: #00af00\">147,584</span> │\n",
       "├─────────────────────────────────┼────────────────────────┼───────────────┤\n",
       "│ conv2d_3 (<span style=\"color: #0087ff; text-decoration-color: #0087ff\">Conv2D</span>)               │ (<span style=\"color: #00d7ff; text-decoration-color: #00d7ff\">None</span>, <span style=\"color: #00af00; text-decoration-color: #00af00\">8</span>, <span style=\"color: #00af00; text-decoration-color: #00af00\">8</span>, <span style=\"color: #00af00; text-decoration-color: #00af00\">64</span>)       │        <span style=\"color: #00af00; text-decoration-color: #00af00\">73,792</span> │\n",
       "├─────────────────────────────────┼────────────────────────┼───────────────┤\n",
       "│ conv2d_4 (<span style=\"color: #0087ff; text-decoration-color: #0087ff\">Conv2D</span>)               │ (<span style=\"color: #00d7ff; text-decoration-color: #00d7ff\">None</span>, <span style=\"color: #00af00; text-decoration-color: #00af00\">6</span>, <span style=\"color: #00af00; text-decoration-color: #00af00\">6</span>, <span style=\"color: #00af00; text-decoration-color: #00af00\">64</span>)       │        <span style=\"color: #00af00; text-decoration-color: #00af00\">36,928</span> │\n",
       "├─────────────────────────────────┼────────────────────────┼───────────────┤\n",
       "│ max_pooling2d_1 (<span style=\"color: #0087ff; text-decoration-color: #0087ff\">MaxPooling2D</span>)  │ (<span style=\"color: #00d7ff; text-decoration-color: #00d7ff\">None</span>, <span style=\"color: #00af00; text-decoration-color: #00af00\">3</span>, <span style=\"color: #00af00; text-decoration-color: #00af00\">3</span>, <span style=\"color: #00af00; text-decoration-color: #00af00\">64</span>)       │             <span style=\"color: #00af00; text-decoration-color: #00af00\">0</span> │\n",
       "├─────────────────────────────────┼────────────────────────┼───────────────┤\n",
       "│ dropout (<span style=\"color: #0087ff; text-decoration-color: #0087ff\">Dropout</span>)               │ (<span style=\"color: #00d7ff; text-decoration-color: #00d7ff\">None</span>, <span style=\"color: #00af00; text-decoration-color: #00af00\">3</span>, <span style=\"color: #00af00; text-decoration-color: #00af00\">3</span>, <span style=\"color: #00af00; text-decoration-color: #00af00\">64</span>)       │             <span style=\"color: #00af00; text-decoration-color: #00af00\">0</span> │\n",
       "├─────────────────────────────────┼────────────────────────┼───────────────┤\n",
       "│ flatten (<span style=\"color: #0087ff; text-decoration-color: #0087ff\">Flatten</span>)               │ (<span style=\"color: #00d7ff; text-decoration-color: #00d7ff\">None</span>, <span style=\"color: #00af00; text-decoration-color: #00af00\">576</span>)            │             <span style=\"color: #00af00; text-decoration-color: #00af00\">0</span> │\n",
       "├─────────────────────────────────┼────────────────────────┼───────────────┤\n",
       "│ dense (<span style=\"color: #0087ff; text-decoration-color: #0087ff\">Dense</span>)                   │ (<span style=\"color: #00d7ff; text-decoration-color: #00d7ff\">None</span>, <span style=\"color: #00af00; text-decoration-color: #00af00\">512</span>)            │       <span style=\"color: #00af00; text-decoration-color: #00af00\">295,424</span> │\n",
       "├─────────────────────────────────┼────────────────────────┼───────────────┤\n",
       "│ dropout_1 (<span style=\"color: #0087ff; text-decoration-color: #0087ff\">Dropout</span>)             │ (<span style=\"color: #00d7ff; text-decoration-color: #00d7ff\">None</span>, <span style=\"color: #00af00; text-decoration-color: #00af00\">512</span>)            │             <span style=\"color: #00af00; text-decoration-color: #00af00\">0</span> │\n",
       "├─────────────────────────────────┼────────────────────────┼───────────────┤\n",
       "│ dense_1 (<span style=\"color: #0087ff; text-decoration-color: #0087ff\">Dense</span>)                 │ (<span style=\"color: #00d7ff; text-decoration-color: #00d7ff\">None</span>, <span style=\"color: #00af00; text-decoration-color: #00af00\">20</span>)             │        <span style=\"color: #00af00; text-decoration-color: #00af00\">10,260</span> │\n",
       "└─────────────────────────────────┴────────────────────────┴───────────────┘\n",
       "</pre>\n"
      ],
      "text/plain": [
       "┏━━━━━━━━━━━━━━━━━━━━━━━━━━━━━━━━━┳━━━━━━━━━━━━━━━━━━━━━━━━┳━━━━━━━━━━━━━━━┓\n",
       "┃\u001b[1m \u001b[0m\u001b[1mLayer (type)                   \u001b[0m\u001b[1m \u001b[0m┃\u001b[1m \u001b[0m\u001b[1mOutput Shape          \u001b[0m\u001b[1m \u001b[0m┃\u001b[1m \u001b[0m\u001b[1m      Param #\u001b[0m\u001b[1m \u001b[0m┃\n",
       "┡━━━━━━━━━━━━━━━━━━━━━━━━━━━━━━━━━╇━━━━━━━━━━━━━━━━━━━━━━━━╇━━━━━━━━━━━━━━━┩\n",
       "│ conv2d (\u001b[38;5;33mConv2D\u001b[0m)                 │ (\u001b[38;5;45mNone\u001b[0m, \u001b[38;5;34m28\u001b[0m, \u001b[38;5;34m28\u001b[0m, \u001b[38;5;34m128\u001b[0m)    │         \u001b[38;5;34m9,728\u001b[0m │\n",
       "├─────────────────────────────────┼────────────────────────┼───────────────┤\n",
       "│ conv2d_1 (\u001b[38;5;33mConv2D\u001b[0m)               │ (\u001b[38;5;45mNone\u001b[0m, \u001b[38;5;34m24\u001b[0m, \u001b[38;5;34m24\u001b[0m, \u001b[38;5;34m128\u001b[0m)    │       \u001b[38;5;34m409,728\u001b[0m │\n",
       "├─────────────────────────────────┼────────────────────────┼───────────────┤\n",
       "│ max_pooling2d (\u001b[38;5;33mMaxPooling2D\u001b[0m)    │ (\u001b[38;5;45mNone\u001b[0m, \u001b[38;5;34m12\u001b[0m, \u001b[38;5;34m12\u001b[0m, \u001b[38;5;34m128\u001b[0m)    │             \u001b[38;5;34m0\u001b[0m │\n",
       "├─────────────────────────────────┼────────────────────────┼───────────────┤\n",
       "│ conv2d_2 (\u001b[38;5;33mConv2D\u001b[0m)               │ (\u001b[38;5;45mNone\u001b[0m, \u001b[38;5;34m10\u001b[0m, \u001b[38;5;34m10\u001b[0m, \u001b[38;5;34m128\u001b[0m)    │       \u001b[38;5;34m147,584\u001b[0m │\n",
       "├─────────────────────────────────┼────────────────────────┼───────────────┤\n",
       "│ conv2d_3 (\u001b[38;5;33mConv2D\u001b[0m)               │ (\u001b[38;5;45mNone\u001b[0m, \u001b[38;5;34m8\u001b[0m, \u001b[38;5;34m8\u001b[0m, \u001b[38;5;34m64\u001b[0m)       │        \u001b[38;5;34m73,792\u001b[0m │\n",
       "├─────────────────────────────────┼────────────────────────┼───────────────┤\n",
       "│ conv2d_4 (\u001b[38;5;33mConv2D\u001b[0m)               │ (\u001b[38;5;45mNone\u001b[0m, \u001b[38;5;34m6\u001b[0m, \u001b[38;5;34m6\u001b[0m, \u001b[38;5;34m64\u001b[0m)       │        \u001b[38;5;34m36,928\u001b[0m │\n",
       "├─────────────────────────────────┼────────────────────────┼───────────────┤\n",
       "│ max_pooling2d_1 (\u001b[38;5;33mMaxPooling2D\u001b[0m)  │ (\u001b[38;5;45mNone\u001b[0m, \u001b[38;5;34m3\u001b[0m, \u001b[38;5;34m3\u001b[0m, \u001b[38;5;34m64\u001b[0m)       │             \u001b[38;5;34m0\u001b[0m │\n",
       "├─────────────────────────────────┼────────────────────────┼───────────────┤\n",
       "│ dropout (\u001b[38;5;33mDropout\u001b[0m)               │ (\u001b[38;5;45mNone\u001b[0m, \u001b[38;5;34m3\u001b[0m, \u001b[38;5;34m3\u001b[0m, \u001b[38;5;34m64\u001b[0m)       │             \u001b[38;5;34m0\u001b[0m │\n",
       "├─────────────────────────────────┼────────────────────────┼───────────────┤\n",
       "│ flatten (\u001b[38;5;33mFlatten\u001b[0m)               │ (\u001b[38;5;45mNone\u001b[0m, \u001b[38;5;34m576\u001b[0m)            │             \u001b[38;5;34m0\u001b[0m │\n",
       "├─────────────────────────────────┼────────────────────────┼───────────────┤\n",
       "│ dense (\u001b[38;5;33mDense\u001b[0m)                   │ (\u001b[38;5;45mNone\u001b[0m, \u001b[38;5;34m512\u001b[0m)            │       \u001b[38;5;34m295,424\u001b[0m │\n",
       "├─────────────────────────────────┼────────────────────────┼───────────────┤\n",
       "│ dropout_1 (\u001b[38;5;33mDropout\u001b[0m)             │ (\u001b[38;5;45mNone\u001b[0m, \u001b[38;5;34m512\u001b[0m)            │             \u001b[38;5;34m0\u001b[0m │\n",
       "├─────────────────────────────────┼────────────────────────┼───────────────┤\n",
       "│ dense_1 (\u001b[38;5;33mDense\u001b[0m)                 │ (\u001b[38;5;45mNone\u001b[0m, \u001b[38;5;34m20\u001b[0m)             │        \u001b[38;5;34m10,260\u001b[0m │\n",
       "└─────────────────────────────────┴────────────────────────┴───────────────┘\n"
      ]
     },
     "metadata": {},
     "output_type": "display_data"
    },
    {
     "data": {
      "text/html": [
       "<pre style=\"white-space:pre;overflow-x:auto;line-height:normal;font-family:Menlo,'DejaVu Sans Mono',consolas,'Courier New',monospace\"><span style=\"font-weight: bold\"> Total params: </span><span style=\"color: #00af00; text-decoration-color: #00af00\">983,444</span> (3.75 MB)\n",
       "</pre>\n"
      ],
      "text/plain": [
       "\u001b[1m Total params: \u001b[0m\u001b[38;5;34m983,444\u001b[0m (3.75 MB)\n"
      ]
     },
     "metadata": {},
     "output_type": "display_data"
    },
    {
     "data": {
      "text/html": [
       "<pre style=\"white-space:pre;overflow-x:auto;line-height:normal;font-family:Menlo,'DejaVu Sans Mono',consolas,'Courier New',monospace\"><span style=\"font-weight: bold\"> Trainable params: </span><span style=\"color: #00af00; text-decoration-color: #00af00\">983,444</span> (3.75 MB)\n",
       "</pre>\n"
      ],
      "text/plain": [
       "\u001b[1m Trainable params: \u001b[0m\u001b[38;5;34m983,444\u001b[0m (3.75 MB)\n"
      ]
     },
     "metadata": {},
     "output_type": "display_data"
    },
    {
     "data": {
      "text/html": [
       "<pre style=\"white-space:pre;overflow-x:auto;line-height:normal;font-family:Menlo,'DejaVu Sans Mono',consolas,'Courier New',monospace\"><span style=\"font-weight: bold\"> Non-trainable params: </span><span style=\"color: #00af00; text-decoration-color: #00af00\">0</span> (0.00 B)\n",
       "</pre>\n"
      ],
      "text/plain": [
       "\u001b[1m Non-trainable params: \u001b[0m\u001b[38;5;34m0\u001b[0m (0.00 B)\n"
      ]
     },
     "metadata": {},
     "output_type": "display_data"
    }
   ],
   "source": [
    "model= myModel()\n",
    "model.summary()"
   ]
  },
  {
   "cell_type": "code",
   "execution_count": 38,
   "metadata": {},
   "outputs": [
    {
     "name": "stderr",
     "output_type": "stream",
     "text": [
      "e:\\projects\\fruit classification\\.venv\\Lib\\site-packages\\keras\\src\\trainers\\data_adapters\\py_dataset_adapter.py:121: UserWarning: Your `PyDataset` class should call `super().__init__(**kwargs)` in its constructor. `**kwargs` can include `workers`, `use_multiprocessing`, `max_queue_size`. Do not pass these arguments to `fit()`, as they will be ignored.\n",
      "  self._warn_if_super_not_called()\n"
     ]
    },
    {
     "name": "stdout",
     "output_type": "stream",
     "text": [
      "Epoch 1/20\n",
      "\u001b[1m251/800\u001b[0m \u001b[32m━━━━━━\u001b[0m\u001b[37m━━━━━━━━━━━━━━\u001b[0m \u001b[1m2:26\u001b[0m 267ms/step - accuracy: 0.1996 - loss: 2.4553"
     ]
    },
    {
     "name": "stderr",
     "output_type": "stream",
     "text": [
      "C:\\Users\\Admin\\AppData\\Local\\Programs\\Python\\Python311\\Lib\\contextlib.py:158: UserWarning: Your input ran out of data; interrupting training. Make sure that your dataset or generator can generate at least `steps_per_epoch * epochs` batches. You may need to use the `.repeat()` function when building your dataset.\n",
      "  self.gen.throw(typ, value, traceback)\n"
     ]
    },
    {
     "name": "stdout",
     "output_type": "stream",
     "text": [
      "\u001b[1m800/800\u001b[0m \u001b[32m━━━━━━━━━━━━━━━━━━━━\u001b[0m\u001b[37m\u001b[0m \u001b[1m80s\u001b[0m 93ms/step - accuracy: 0.2786 - loss: 2.1509 - val_accuracy: 0.5664 - val_loss: 1.1455\n",
      "Epoch 2/20\n",
      "\u001b[1m800/800\u001b[0m \u001b[32m━━━━━━━━━━━━━━━━━━━━\u001b[0m\u001b[37m\u001b[0m \u001b[1m74s\u001b[0m 92ms/step - accuracy: 0.5473 - loss: 1.2208 - val_accuracy: 0.7512 - val_loss: 0.6652\n",
      "Epoch 3/20\n",
      "\u001b[1m800/800\u001b[0m \u001b[32m━━━━━━━━━━━━━━━━━━━━\u001b[0m\u001b[37m\u001b[0m \u001b[1m74s\u001b[0m 92ms/step - accuracy: 0.6478 - loss: 0.9400 - val_accuracy: 0.7567 - val_loss: 0.5836\n",
      "Epoch 4/20\n",
      "\u001b[1m800/800\u001b[0m \u001b[32m━━━━━━━━━━━━━━━━━━━━\u001b[0m\u001b[37m\u001b[0m \u001b[1m73s\u001b[0m 91ms/step - accuracy: 0.7217 - loss: 0.7463 - val_accuracy: 0.8412 - val_loss: 0.4101\n",
      "Epoch 5/20\n",
      "\u001b[1m800/800\u001b[0m \u001b[32m━━━━━━━━━━━━━━━━━━━━\u001b[0m\u001b[37m\u001b[0m \u001b[1m73s\u001b[0m 91ms/step - accuracy: 0.7659 - loss: 0.6230 - val_accuracy: 0.8981 - val_loss: 0.2716\n",
      "Epoch 6/20\n",
      "\u001b[1m800/800\u001b[0m \u001b[32m━━━━━━━━━━━━━━━━━━━━\u001b[0m\u001b[37m\u001b[0m \u001b[1m74s\u001b[0m 93ms/step - accuracy: 0.8109 - loss: 0.5135 - val_accuracy: 0.9076 - val_loss: 0.2434\n",
      "Epoch 7/20\n",
      "\u001b[1m800/800\u001b[0m \u001b[32m━━━━━━━━━━━━━━━━━━━━\u001b[0m\u001b[37m\u001b[0m \u001b[1m74s\u001b[0m 93ms/step - accuracy: 0.8274 - loss: 0.4556 - val_accuracy: 0.9426 - val_loss: 0.1681\n",
      "Epoch 8/20\n",
      "\u001b[1m800/800\u001b[0m \u001b[32m━━━━━━━━━━━━━━━━━━━━\u001b[0m\u001b[37m\u001b[0m \u001b[1m76s\u001b[0m 95ms/step - accuracy: 0.8450 - loss: 0.4145 - val_accuracy: 0.9565 - val_loss: 0.1208\n",
      "Epoch 9/20\n",
      "\u001b[1m800/800\u001b[0m \u001b[32m━━━━━━━━━━━━━━━━━━━━\u001b[0m\u001b[37m\u001b[0m \u001b[1m80s\u001b[0m 99ms/step - accuracy: 0.8680 - loss: 0.3475 - val_accuracy: 0.9266 - val_loss: 0.1835\n",
      "Epoch 10/20\n",
      "\u001b[1m800/800\u001b[0m \u001b[32m━━━━━━━━━━━━━━━━━━━━\u001b[0m\u001b[37m\u001b[0m \u001b[1m76s\u001b[0m 95ms/step - accuracy: 0.8769 - loss: 0.3390 - val_accuracy: 0.9575 - val_loss: 0.1280\n",
      "Epoch 11/20\n",
      "\u001b[1m800/800\u001b[0m \u001b[32m━━━━━━━━━━━━━━━━━━━━\u001b[0m\u001b[37m\u001b[0m \u001b[1m76s\u001b[0m 94ms/step - accuracy: 0.8841 - loss: 0.3175 - val_accuracy: 0.9515 - val_loss: 0.1116\n",
      "Epoch 12/20\n",
      "\u001b[1m800/800\u001b[0m \u001b[32m━━━━━━━━━━━━━━━━━━━━\u001b[0m\u001b[37m\u001b[0m \u001b[1m73s\u001b[0m 91ms/step - accuracy: 0.9002 - loss: 0.2778 - val_accuracy: 0.9800 - val_loss: 0.0670\n",
      "Epoch 13/20\n",
      "\u001b[1m800/800\u001b[0m \u001b[32m━━━━━━━━━━━━━━━━━━━━\u001b[0m\u001b[37m\u001b[0m \u001b[1m74s\u001b[0m 92ms/step - accuracy: 0.9086 - loss: 0.2546 - val_accuracy: 0.9800 - val_loss: 0.0620\n",
      "Epoch 14/20\n",
      "\u001b[1m800/800\u001b[0m \u001b[32m━━━━━━━━━━━━━━━━━━━━\u001b[0m\u001b[37m\u001b[0m \u001b[1m74s\u001b[0m 92ms/step - accuracy: 0.9150 - loss: 0.2369 - val_accuracy: 0.9620 - val_loss: 0.1078\n",
      "Epoch 15/20\n",
      "\u001b[1m800/800\u001b[0m \u001b[32m━━━━━━━━━━━━━━━━━━━━\u001b[0m\u001b[37m\u001b[0m \u001b[1m75s\u001b[0m 94ms/step - accuracy: 0.9134 - loss: 0.2340 - val_accuracy: 0.9940 - val_loss: 0.0295\n",
      "Epoch 16/20\n",
      "\u001b[1m800/800\u001b[0m \u001b[32m━━━━━━━━━━━━━━━━━━━━\u001b[0m\u001b[37m\u001b[0m \u001b[1m74s\u001b[0m 93ms/step - accuracy: 0.9191 - loss: 0.2208 - val_accuracy: 0.9875 - val_loss: 0.0383\n",
      "Epoch 17/20\n",
      "\u001b[1m800/800\u001b[0m \u001b[32m━━━━━━━━━━━━━━━━━━━━\u001b[0m\u001b[37m\u001b[0m \u001b[1m73s\u001b[0m 91ms/step - accuracy: 0.9286 - loss: 0.2025 - val_accuracy: 0.9805 - val_loss: 0.0530\n",
      "Epoch 18/20\n",
      "\u001b[1m800/800\u001b[0m \u001b[32m━━━━━━━━━━━━━━━━━━━━\u001b[0m\u001b[37m\u001b[0m \u001b[1m72s\u001b[0m 90ms/step - accuracy: 0.9313 - loss: 0.1991 - val_accuracy: 0.9805 - val_loss: 0.0553\n",
      "Epoch 19/20\n",
      "\u001b[1m800/800\u001b[0m \u001b[32m━━━━━━━━━━━━━━━━━━━━\u001b[0m\u001b[37m\u001b[0m \u001b[1m73s\u001b[0m 91ms/step - accuracy: 0.9401 - loss: 0.1785 - val_accuracy: 0.9925 - val_loss: 0.0273\n",
      "Epoch 20/20\n",
      "\u001b[1m800/800\u001b[0m \u001b[32m━━━━━━━━━━━━━━━━━━━━\u001b[0m\u001b[37m\u001b[0m \u001b[1m73s\u001b[0m 91ms/step - accuracy: 0.9464 - loss: 0.1537 - val_accuracy: 0.9910 - val_loss: 0.0281\n"
     ]
    }
   ],
   "source": [
    "history = model.fit(\n",
    "    dataGen.flow(X_train, y_train_categorical, batch_size=32),\n",
    "    steps_per_epoch = 800,  # Calculate the number of steps per epoch\n",
    "    epochs=20,\n",
    "    validation_data=(X_validation, y_validation),\n",
    "    shuffle=True)"
   ]
  },
  {
   "cell_type": "code",
   "execution_count": 39,
   "metadata": {},
   "outputs": [
    {
     "name": "stdout",
     "output_type": "stream",
     "text": [
      "(3360, 32, 32, 1)\n",
      "(3360, 20)\n"
     ]
    }
   ],
   "source": [
    "print(X_test.shape)\n",
    "print(y_test.shape)"
   ]
  },
  {
   "cell_type": "code",
   "execution_count": 40,
   "metadata": {},
   "outputs": [
    {
     "name": "stdout",
     "output_type": "stream",
     "text": [
      "(3360, 32, 32, 3)\n"
     ]
    }
   ],
   "source": [
    "X_test = np.repeat(X_test, 3, axis=-1)\n",
    "print(X_test.shape)  # Should now be (10549, 32, 32, 3)"
   ]
  },
  {
   "cell_type": "code",
   "execution_count": 41,
   "metadata": {},
   "outputs": [
    {
     "name": "stdout",
     "output_type": "stream",
     "text": [
      "Test Score =  0.4406837224960327\n",
      "Test Accuracy = 0.874404788017273\n"
     ]
    }
   ],
   "source": [
    "score = model.evaluate(X_test,y_test,verbose=0) \n",
    "print('Test Score = ',score[0])\n",
    "print('Test Accuracy =', score[1])"
   ]
  },
  {
   "cell_type": "code",
   "execution_count": 42,
   "metadata": {},
   "outputs": [],
   "source": [
    "model_json = model.to_json()\n",
    "with open(\"model-bw.json\", \"w\") as json_file:\n",
    "    json_file.write(model_json)\n",
    "model.save_weights('model-bw.weights.h5')"
   ]
  },
  {
   "cell_type": "code",
   "execution_count": null,
   "metadata": {},
   "outputs": [],
   "source": []
  }
 ],
 "metadata": {
  "kernelspec": {
   "display_name": ".venv",
   "language": "python",
   "name": "python3"
  },
  "language_info": {
   "codemirror_mode": {
    "name": "ipython",
    "version": 3
   },
   "file_extension": ".py",
   "mimetype": "text/x-python",
   "name": "python",
   "nbconvert_exporter": "python",
   "pygments_lexer": "ipython3",
   "version": "3.11.8"
  }
 },
 "nbformat": 4,
 "nbformat_minor": 2
}
